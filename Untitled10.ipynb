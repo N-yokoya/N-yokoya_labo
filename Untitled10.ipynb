{
  "nbformat": 4,
  "nbformat_minor": 0,
  "metadata": {
    "colab": {
      "provenance": [],
      "authorship_tag": "ABX9TyOLCkuPnrfDraY5a1IN4BSH",
      "include_colab_link": true
    },
    "kernelspec": {
      "name": "python3",
      "display_name": "Python 3"
    },
    "language_info": {
      "name": "python"
    },
    "accelerator": "GPU"
  },
  "cells": [
    {
      "cell_type": "markdown",
      "metadata": {
        "id": "view-in-github",
        "colab_type": "text"
      },
      "source": [
        "<a href=\"https://colab.research.google.com/github/N-yokoya/N-yokoya_labo/blob/GPT_2/Untitled10.ipynb\" target=\"_parent\"><img src=\"https://colab.research.google.com/assets/colab-badge.svg\" alt=\"Open In Colab\"/></a>"
      ]
    },
    {
      "cell_type": "code",
      "metadata": {
        "colab": {
          "base_uri": "https://localhost:8080/"
        },
        "id": "b_G7axR6ZP2T",
        "outputId": "c189217c-975f-416a-c18c-0bad59a4c816"
      },
      "source": [
        "!git clone https://github.com/tanreinama/gpt2-japanese\n",
        "%cd gpt2-japanese\n",
        "!pip install -r requirements.txt"
      ],
      "execution_count": null,
      "outputs": [
        {
          "output_type": "stream",
          "name": "stdout",
          "text": [
            "Cloning into 'gpt2-japanese'...\n",
            "remote: Enumerating objects: 269, done.\u001b[K\n",
            "remote: Counting objects: 100% (228/228), done.\u001b[K\n",
            "remote: Compressing objects: 100% (158/158), done.\u001b[K\n",
            "remote: Total 269 (delta 125), reused 157 (delta 66), pack-reused 41\u001b[K\n",
            "Receiving objects: 100% (269/269), 1.22 MiB | 8.55 MiB/s, done.\n",
            "Resolving deltas: 100% (144/144), done.\n",
            "/content/gpt2-japanese\n",
            "Requirement already satisfied: tqdm in /usr/local/lib/python3.7/dist-packages (from -r requirements.txt (line 1)) (4.62.3)\n",
            "Requirement already satisfied: numpy in /usr/local/lib/python3.7/dist-packages (from -r requirements.txt (line 2)) (1.19.5)\n",
            "Collecting jaconv\n",
            "  Downloading jaconv-0.3.tar.gz (15 kB)\n",
            "Requirement already satisfied: tensorflow in /usr/local/lib/python3.7/dist-packages (from -r requirements.txt (line 4)) (2.7.0)\n",
            "Requirement already satisfied: wrapt>=1.11.0 in /usr/local/lib/python3.7/dist-packages (from tensorflow->-r requirements.txt (line 4)) (1.13.3)\n",
            "Requirement already satisfied: grpcio<2.0,>=1.24.3 in /usr/local/lib/python3.7/dist-packages (from tensorflow->-r requirements.txt (line 4)) (1.43.0)\n",
            "Requirement already satisfied: libclang>=9.0.1 in /usr/local/lib/python3.7/dist-packages (from tensorflow->-r requirements.txt (line 4)) (13.0.0)\n",
            "Requirement already satisfied: tensorboard~=2.6 in /usr/local/lib/python3.7/dist-packages (from tensorflow->-r requirements.txt (line 4)) (2.7.0)\n",
            "Requirement already satisfied: wheel<1.0,>=0.32.0 in /usr/local/lib/python3.7/dist-packages (from tensorflow->-r requirements.txt (line 4)) (0.37.1)\n",
            "Requirement already satisfied: flatbuffers<3.0,>=1.12 in /usr/local/lib/python3.7/dist-packages (from tensorflow->-r requirements.txt (line 4)) (2.0)\n",
            "Requirement already satisfied: termcolor>=1.1.0 in /usr/local/lib/python3.7/dist-packages (from tensorflow->-r requirements.txt (line 4)) (1.1.0)\n",
            "Requirement already satisfied: keras<2.8,>=2.7.0rc0 in /usr/local/lib/python3.7/dist-packages (from tensorflow->-r requirements.txt (line 4)) (2.7.0)\n",
            "Requirement already satisfied: protobuf>=3.9.2 in /usr/local/lib/python3.7/dist-packages (from tensorflow->-r requirements.txt (line 4)) (3.17.3)\n",
            "Requirement already satisfied: six>=1.12.0 in /usr/local/lib/python3.7/dist-packages (from tensorflow->-r requirements.txt (line 4)) (1.15.0)\n",
            "Requirement already satisfied: h5py>=2.9.0 in /usr/local/lib/python3.7/dist-packages (from tensorflow->-r requirements.txt (line 4)) (3.1.0)\n",
            "Requirement already satisfied: gast<0.5.0,>=0.2.1 in /usr/local/lib/python3.7/dist-packages (from tensorflow->-r requirements.txt (line 4)) (0.4.0)\n",
            "Requirement already satisfied: keras-preprocessing>=1.1.1 in /usr/local/lib/python3.7/dist-packages (from tensorflow->-r requirements.txt (line 4)) (1.1.2)\n",
            "Requirement already satisfied: typing-extensions>=3.6.6 in /usr/local/lib/python3.7/dist-packages (from tensorflow->-r requirements.txt (line 4)) (3.10.0.2)\n",
            "Requirement already satisfied: astunparse>=1.6.0 in /usr/local/lib/python3.7/dist-packages (from tensorflow->-r requirements.txt (line 4)) (1.6.3)\n",
            "Requirement already satisfied: tensorflow-io-gcs-filesystem>=0.21.0 in /usr/local/lib/python3.7/dist-packages (from tensorflow->-r requirements.txt (line 4)) (0.24.0)\n",
            "Requirement already satisfied: google-pasta>=0.1.1 in /usr/local/lib/python3.7/dist-packages (from tensorflow->-r requirements.txt (line 4)) (0.2.0)\n",
            "Requirement already satisfied: absl-py>=0.4.0 in /usr/local/lib/python3.7/dist-packages (from tensorflow->-r requirements.txt (line 4)) (1.0.0)\n",
            "Requirement already satisfied: opt-einsum>=2.3.2 in /usr/local/lib/python3.7/dist-packages (from tensorflow->-r requirements.txt (line 4)) (3.3.0)\n",
            "Requirement already satisfied: tensorflow-estimator<2.8,~=2.7.0rc0 in /usr/local/lib/python3.7/dist-packages (from tensorflow->-r requirements.txt (line 4)) (2.7.0)\n",
            "Requirement already satisfied: cached-property in /usr/local/lib/python3.7/dist-packages (from h5py>=2.9.0->tensorflow->-r requirements.txt (line 4)) (1.5.2)\n",
            "Requirement already satisfied: google-auth<3,>=1.6.3 in /usr/local/lib/python3.7/dist-packages (from tensorboard~=2.6->tensorflow->-r requirements.txt (line 4)) (1.35.0)\n",
            "Requirement already satisfied: google-auth-oauthlib<0.5,>=0.4.1 in /usr/local/lib/python3.7/dist-packages (from tensorboard~=2.6->tensorflow->-r requirements.txt (line 4)) (0.4.6)\n",
            "Requirement already satisfied: markdown>=2.6.8 in /usr/local/lib/python3.7/dist-packages (from tensorboard~=2.6->tensorflow->-r requirements.txt (line 4)) (3.3.6)\n",
            "Requirement already satisfied: setuptools>=41.0.0 in /usr/local/lib/python3.7/dist-packages (from tensorboard~=2.6->tensorflow->-r requirements.txt (line 4)) (57.4.0)\n",
            "Requirement already satisfied: tensorboard-plugin-wit>=1.6.0 in /usr/local/lib/python3.7/dist-packages (from tensorboard~=2.6->tensorflow->-r requirements.txt (line 4)) (1.8.1)\n",
            "Requirement already satisfied: requests<3,>=2.21.0 in /usr/local/lib/python3.7/dist-packages (from tensorboard~=2.6->tensorflow->-r requirements.txt (line 4)) (2.23.0)\n",
            "Requirement already satisfied: tensorboard-data-server<0.7.0,>=0.6.0 in /usr/local/lib/python3.7/dist-packages (from tensorboard~=2.6->tensorflow->-r requirements.txt (line 4)) (0.6.1)\n",
            "Requirement already satisfied: werkzeug>=0.11.15 in /usr/local/lib/python3.7/dist-packages (from tensorboard~=2.6->tensorflow->-r requirements.txt (line 4)) (1.0.1)\n",
            "Requirement already satisfied: pyasn1-modules>=0.2.1 in /usr/local/lib/python3.7/dist-packages (from google-auth<3,>=1.6.3->tensorboard~=2.6->tensorflow->-r requirements.txt (line 4)) (0.2.8)\n",
            "Requirement already satisfied: rsa<5,>=3.1.4 in /usr/local/lib/python3.7/dist-packages (from google-auth<3,>=1.6.3->tensorboard~=2.6->tensorflow->-r requirements.txt (line 4)) (4.8)\n",
            "Requirement already satisfied: cachetools<5.0,>=2.0.0 in /usr/local/lib/python3.7/dist-packages (from google-auth<3,>=1.6.3->tensorboard~=2.6->tensorflow->-r requirements.txt (line 4)) (4.2.4)\n",
            "Requirement already satisfied: requests-oauthlib>=0.7.0 in /usr/local/lib/python3.7/dist-packages (from google-auth-oauthlib<0.5,>=0.4.1->tensorboard~=2.6->tensorflow->-r requirements.txt (line 4)) (1.3.1)\n",
            "Requirement already satisfied: importlib-metadata>=4.4 in /usr/local/lib/python3.7/dist-packages (from markdown>=2.6.8->tensorboard~=2.6->tensorflow->-r requirements.txt (line 4)) (4.10.1)\n",
            "Requirement already satisfied: zipp>=0.5 in /usr/local/lib/python3.7/dist-packages (from importlib-metadata>=4.4->markdown>=2.6.8->tensorboard~=2.6->tensorflow->-r requirements.txt (line 4)) (3.7.0)\n",
            "Requirement already satisfied: pyasn1<0.5.0,>=0.4.6 in /usr/local/lib/python3.7/dist-packages (from pyasn1-modules>=0.2.1->google-auth<3,>=1.6.3->tensorboard~=2.6->tensorflow->-r requirements.txt (line 4)) (0.4.8)\n",
            "Requirement already satisfied: idna<3,>=2.5 in /usr/local/lib/python3.7/dist-packages (from requests<3,>=2.21.0->tensorboard~=2.6->tensorflow->-r requirements.txt (line 4)) (2.10)\n",
            "Requirement already satisfied: urllib3!=1.25.0,!=1.25.1,<1.26,>=1.21.1 in /usr/local/lib/python3.7/dist-packages (from requests<3,>=2.21.0->tensorboard~=2.6->tensorflow->-r requirements.txt (line 4)) (1.24.3)\n",
            "Requirement already satisfied: chardet<4,>=3.0.2 in /usr/local/lib/python3.7/dist-packages (from requests<3,>=2.21.0->tensorboard~=2.6->tensorflow->-r requirements.txt (line 4)) (3.0.4)\n",
            "Requirement already satisfied: certifi>=2017.4.17 in /usr/local/lib/python3.7/dist-packages (from requests<3,>=2.21.0->tensorboard~=2.6->tensorflow->-r requirements.txt (line 4)) (2021.10.8)\n",
            "Requirement already satisfied: oauthlib>=3.0.0 in /usr/local/lib/python3.7/dist-packages (from requests-oauthlib>=0.7.0->google-auth-oauthlib<0.5,>=0.4.1->tensorboard~=2.6->tensorflow->-r requirements.txt (line 4)) (3.2.0)\n",
            "Building wheels for collected packages: jaconv\n",
            "  Building wheel for jaconv (setup.py) ... \u001b[?25l\u001b[?25hdone\n",
            "  Created wheel for jaconv: filename=jaconv-0.3-py3-none-any.whl size=15564 sha256=194180f4465e8de81a4fcbfb808481a329dd2fcb7f4649224b384697d5670af0\n",
            "  Stored in directory: /root/.cache/pip/wheels/8f/4f/c2/a2a3b14d0e94f855f4aa8887bf0267bee9ecfb8e62a9ee2d92\n",
            "Successfully built jaconv\n",
            "Installing collected packages: jaconv\n",
            "Successfully installed jaconv-0.3\n"
          ]
        }
      ]
    },
    {
      "cell_type": "code",
      "metadata": {
        "colab": {
          "base_uri": "https://localhost:8080/"
        },
        "id": "Y8NfAPGQZdg-",
        "outputId": "0c9de3ea-de25-4698-a7ee-3e2385ce39a5"
      },
      "source": [
        "!wget https://www.nama.ne.jp/models/gpt2ja-medium.tar.bz2\n",
        "!tar xvfj gpt2ja-medium.tar.bz2"
      ],
      "execution_count": null,
      "outputs": [
        {
          "output_type": "stream",
          "name": "stdout",
          "text": [
            "--2022-02-11 01:51:54--  https://www.nama.ne.jp/models/gpt2ja-medium.tar.bz2\n",
            "Resolving www.nama.ne.jp (www.nama.ne.jp)... 112.78.112.176\n",
            "Connecting to www.nama.ne.jp (www.nama.ne.jp)|112.78.112.176|:443... connected.\n",
            "HTTP request sent, awaiting response... 200 OK\n",
            "Length: 1231913234 (1.1G) [application/x-bzip2]\n",
            "Saving to: ‘gpt2ja-medium.tar.bz2’\n",
            "\n",
            "gpt2ja-medium.tar.b  40%[=======>            ] 471.70M  2.20MB/s    in 4m 19s  \n",
            "\n",
            "2022-02-11 01:56:14 (1.82 MB/s) - Connection closed at byte 494617777. Retrying.\n",
            "\n",
            "--2022-02-11 01:56:15--  (try: 2)  https://www.nama.ne.jp/models/gpt2ja-medium.tar.bz2\n",
            "Connecting to www.nama.ne.jp (www.nama.ne.jp)|112.78.112.176|:443... connected.\n",
            "HTTP request sent, awaiting response... 206 Partial Content\n",
            "Length: 1231913234 (1.1G), 737295457 (703M) remaining [application/x-bzip2]\n",
            "Saving to: ‘gpt2ja-medium.tar.bz2’\n",
            "\n",
            "gpt2ja-medium.tar.b  89%[++++++++========>   ]   1.03G  1023KB/s    in 5m 2s   \n",
            "\n",
            "2022-02-11 02:01:17 (1.93 MB/s) - Connection closed at byte 1106615080. Retrying.\n",
            "\n",
            "--2022-02-11 02:01:19--  (try: 3)  https://www.nama.ne.jp/models/gpt2ja-medium.tar.bz2\n",
            "Connecting to www.nama.ne.jp (www.nama.ne.jp)|112.78.112.176|:443... connected.\n",
            "HTTP request sent, awaiting response... 206 Partial Content\n",
            "Length: 1231913234 (1.1G), 125298154 (119M) remaining [application/x-bzip2]\n",
            "Saving to: ‘gpt2ja-medium.tar.bz2’\n",
            "\n",
            "gpt2ja-medium.tar.b 100%[+++++++++++++++++==>]   1.15G  3.18MB/s    in 78s     \n",
            "\n",
            "2022-02-11 02:02:38 (1.53 MB/s) - ‘gpt2ja-medium.tar.bz2’ saved [1231913234/1231913234]\n",
            "\n",
            "gpt2ja-medium/\n",
            "gpt2ja-medium/checkpoint\n",
            "gpt2ja-medium/model-10410000.data-00000-of-00001\n",
            "gpt2ja-medium/model-10410000.index\n",
            "gpt2ja-medium/model-10410000.meta\n",
            "special_thanks.txt\n"
          ]
        }
      ]
    },
    {
      "cell_type": "code",
      "metadata": {
        "colab": {
          "base_uri": "https://localhost:8080/"
        },
        "id": "AfUaXK93bpw-",
        "outputId": "aacc412a-8a67-478c-c94d-9feb5d14e6b7"
      },
      "source": [
        "!python gpt2-generate.py --model gpt2ja-medium --context=\"hello\""
      ],
      "execution_count": null,
      "outputs": [
        {
          "output_type": "stream",
          "name": "stdout",
          "text": [
            "WARNING:tensorflow:From /content/gpt2-japanese/sampling.py:79: to_float (from tensorflow.python.ops.math_ops) is deprecated and will be removed in a future version.\n",
            "Instructions for updating:\n",
            "Use `tf.cast` instead.\n",
            "WARNING:tensorflow:From /usr/local/lib/python3.7/dist-packages/tensorflow/python/util/dispatch.py:1096: multinomial (from tensorflow.python.ops.random_ops) is deprecated and will be removed in a future version.\n",
            "Instructions for updating:\n",
            "Use `tf.random.categorical` instead.\n",
            "per, and as other version from EMC to distribute.\n",
            " \n",
            "Chromecast citigram from EMC migration/Stores  case is the summary.\n",
            "But can see the homeland is before other website, but using the preview address.\n",
            " \n",
            "Collaborative for EMC migration support cases and pages. Add service (dasah), website to Top cases as top are guidely can use other same locals, addonly like to pass the programming service (dasah), as the technique, as technical service (dasah), top, where to be same side. If the migration is us\n",
            "========\n",
            "\" が、「私たちは、私たち自身を、私たちの心をどこかで見ていた」と言い、1990年5月21日、22日において、日本を離れた。23日の土曜日、6月4日に、カリフォルニア北部のプリンスエドワード島に渡る前に、彼と会った。\n",
            "ウィルソンは、1999年10月12日の午前、カリフォルニア州オークランドで死去した。4人の子供たち（ウィルソン、アレン、サム、ジュン）が、ウィルソンの遺体を取り出すよう、ウィルソンズの遺体収容施設や墓地に取って置いた。ウィルソンは、「私が私であり、私は私であり、私は私である。私は私のために、私は私のために、私は私のために」と述べた。\n",
            "ウィルソンといえば「アメリカで最も美しい写真家」として、世界的な人気が高いクリスチャンである。また、映画の撮影（「1965」「」、そしていくつかの映画）においても、ウィルソンの写真作品を大量に見せている。\n",
            "\n",
            "========\n",
            ", PUB)を結成。\n",
            "2001年に自身6枚目のシングルとして「PUBで言う!」を発表。同年のコンサートツアー「PUB1000」には2001年の「PUB1000」と全く同じ会場として、東京・大阪に11ヵ所で出演。\n",
            "2003年4月6日に通算50枚目となるシングル「Day Free」を発売（発売週は翌週の2月13日深夜にシングル・カットされ、同年5月6日にデジタル・ダウンロードダウンロード限定でCD EXTRA仕様、および配信限定で配信）、7月24日に自身2枚目のシングルとなる「LoveLetting Day」が発売される（発売週は翌週の7月25日深夜にシングル・カットされ、同年8月6日にDVD・CDがそれぞれ発売された）。\n",
            "2004年7月11日に自身3枚目となるアルバム「Day Free」（発売週は翌日の同年8月14日深夜にシングル・カットされた）を発売。2004年の自身3枚目のアルバム「SunnyWare」（発売週は翌々週の8月27日深夜にシングル・カットされ、翌々週にDVD・CDが発売された）には未収録。2004年の自身4枚目のシングル「愛は地球を救う」が2011年にリリースされるまで\n",
            "========\n",
            ".Me.Run.\n",
            "Make a hello. And look like you a woman to your own as dewin with you.\n",
            "Not become wheel.\n",
            "\"Caques\".\n",
            "\"And Area One behind a girl to better two feeling of the black coordinate of our heart.her.\"\n",
            "You're belonging to better. Make me?\n",
            "I-just knowing the name my vegetarius darkness, but with standering night of here without type, \"One is just, ma〜 sin I will be better.\n",
            "\"Caques of there?\".\n",
            "\"And there are as going to be become and everything our cooperation and a excel following your special. Ma\n",
            "========\n",
            " Knife Tea.、Dentive Pierce League(DPL)のホームゲーム」では、2017年シーズンから「PassCombat」プロゲーミングチームのメンバーが試合数を減らし、代役として選手として参加することになっている。\n",
            "\n"
          ]
        }
      ]
    }
  ]
}